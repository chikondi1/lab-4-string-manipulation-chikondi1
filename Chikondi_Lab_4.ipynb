{
  "nbformat": 4,
  "nbformat_minor": 0,
  "metadata": {
    "colab": {
      "name": "Chikondi Lab 4.ipynb",
      "provenance": [],
      "authorship_tag": "ABX9TyMXuLdXeJFUzqmUlAyypZzj",
      "include_colab_link": true
    },
    "kernelspec": {
      "name": "python3",
      "display_name": "Python 3"
    }
  },
  "cells": [
    {
      "cell_type": "markdown",
      "metadata": {
        "id": "view-in-github",
        "colab_type": "text"
      },
      "source": [
        "<a href=\"https://colab.research.google.com/github/chikondi1/lab-4-string-manipulation-chikondi1/blob/main/Chikondi_Lab_4.ipynb\" target=\"_parent\"><img src=\"https://colab.research.google.com/assets/colab-badge.svg\" alt=\"Open In Colab\"/></a>"
      ]
    },
    {
      "cell_type": "code",
      "metadata": {
        "id": "n52lZpNboyjz"
      },
      "source": [
        "'''\n",
        "Chikondi Thangata\n",
        "25 September 2020\n",
        "Lab 4 String Manipulation: The first exercise capitalizes portions of a string, the second exercise parses and manipulates a string that has been webscraped from the National Weather Service website and the third exerecise extracts part of a url to make it more readale. The inputs are strings, and the outputs are parsed strings that are easier to understand. \n",
        "'''"
      ],
      "execution_count": null,
      "outputs": []
    },
    {
      "cell_type": "code",
      "metadata": {
        "id": "7EToaiNUr4eq",
        "colab": {
          "base_uri": "https://localhost:8080/",
          "height": 34
        },
        "outputId": "a6debba4-4b14-429c-9af2-a227d8d56ac9"
      },
      "source": [
        "#Exercise 1 (write it differently)\n",
        "#Write a function that capitalizes the first and fourth letters of a name, e.g.\n",
        "\n",
        "#old_macdonald('macdonald') --> MacDonald\n",
        "\n",
        "#Add your code to exercise1.py\n",
        "#Note: there is a method called \"capitalize.\" The syntax for it is 'macdonald'.capitalize() and it returns 'Macdonald'\n",
        "\n",
        "#macintosh(\"macbook\") --> MacBook\n",
        "\n",
        "laptop = \"macbook\"\n",
        "macintosh = \"M\" + laptop[1:3] + \"B\" + laptop[4:]\n",
        "print(macintosh)\n"
      ],
      "execution_count": null,
      "outputs": [
        {
          "output_type": "stream",
          "text": [
            "MacBook\n"
          ],
          "name": "stdout"
        }
      ]
    },
    {
      "cell_type": "code",
      "metadata": {
        "id": "wmLSaufR1jGE",
        "colab": {
          "base_uri": "https://localhost:8080/",
          "height": 119
        },
        "outputId": "8313f28a-ae40-4150-e6fe-cd30301db98a"
      },
      "source": [
        "#The multi-line string was scraped from the National Weather Service Website.\n",
        "#Edit this exercise to produce the output below using string manipulation techniques:\n",
        "\n",
        "#Tonight: Clear, Low: 55 F\n",
        "#Thursday: Sunny then Chance Showers, High: 77 F\n",
        "#Friday: Sunny, High: 73 F\n",
        "#Saturday: Mostly Sunny, High: 77 F\n",
        "#Sunday: Mostly Sunny, High: 71 F\n",
        "\n",
        "#Note: Copy the below code in the edit mode to retain the multi-line string formatting. There should be 39 lines of code when pasted in Python IDLE.\n",
        "\n",
        "# -*- coding: utf-8 -*-\n",
        "# Keep the line above when running script\n",
        "# Tells python what encoding the string is stored in\n",
        "\n",
        "# Scraped multi-line String\n",
        "forecast = '''\n",
        "\n",
        "Tonight\n",
        "ClearLow: 55 F\n",
        "\n",
        "Thursday\n",
        "Sunny thenChanceShowersHigh: 77 F\n",
        "\n",
        "Friday\n",
        "SunnyHigh: 73 F\n",
        "\n",
        "Saturday\n",
        "Mostly SunnyHigh: 77 F\n",
        "\n",
        "Sunday\n",
        "Mostly SunnyHigh: 71 F\n",
        "'''\n",
        "\n",
        "forecast_list = forecast.split('\\n\\n')\n",
        "\n",
        "#the for loops select different parts of the string that need to be cleaned up\n",
        "for day in forecast_list:\n",
        "    day = day.replace('\\n',': ')\n",
        "    day = day.replace('High',' High')\n",
        "    day = day.replace('Chance', ' Chance')\n",
        "    day = day.replace('Showers', ' Showers,')\n",
        "    day = day.replace('Sunny', 'Sunny,')\n",
        "    day = day.replace('Clear','Clear, ')\n",
        "    day = day.replace('F:', 'F')\n",
        "    print(day)\n"
      ],
      "execution_count": null,
      "outputs": [
        {
          "output_type": "stream",
          "text": [
            "\n",
            "Tonight: Clear, Low: 55 F\n",
            "Thursday: Sunny, then Chance Showers, High: 77 F\n",
            "Friday: Sunny, High: 73 F\n",
            "Saturday: Mostly Sunny, High: 77 F\n",
            "Sunday: Mostly Sunny, High: 71 F \n"
          ],
          "name": "stdout"
        }
      ]
    },
    {
      "cell_type": "code",
      "metadata": {
        "id": "1omvm-QBykdx",
        "colab": {
          "base_uri": "https://localhost:8080/",
          "height": 51
        },
        "outputId": "fc77ec3d-6f7a-4deb-c94c-0b316ca45aa3"
      },
      "source": [
        "#Exercise 3 ?\n",
        "# Write code to extract the latitude and longitude from the URL: https://www.google.com/maps/@42.2509428,-71.8249939,17z\n",
        "# Output should be text that reads:\n",
        "\n",
        "# Latitude: 42.2509428\n",
        "# Longitude: -71.8249939\n",
        "\n",
        "#import module\n",
        "import re \n",
        "\n",
        "url = 'https://www.google.com/maps/@42.2509428,-71.8249939,17z'\n",
        "\n",
        "latitude, longitude = re.search(r'@(.*?),(.*?),',url).groups()\n",
        "\n",
        "print(\"Latitude: \" + latitude)\n",
        "print(\"Longitude: \" + longitude)"
      ],
      "execution_count": null,
      "outputs": [
        {
          "output_type": "stream",
          "text": [
            "Latitude: 42.2509428\n",
            "Longitude: -71.8249939\n"
          ],
          "name": "stdout"
        }
      ]
    }
  ]
}